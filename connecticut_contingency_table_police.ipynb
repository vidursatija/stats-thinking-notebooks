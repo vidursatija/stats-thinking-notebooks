{
 "cells": [
  {
   "cell_type": "code",
   "execution_count": 2,
   "metadata": {},
   "outputs": [],
   "source": [
    "import scipy.stats as stats\n",
    "import matplotlib.pyplot as plt\n",
    "import numpy as np\n",
    "import pandas as pd"
   ]
  },
  {
   "cell_type": "code",
   "execution_count": 8,
   "metadata": {},
   "outputs": [
    {
     "data": {
      "text/html": [
       "<div>\n",
       "<style scoped>\n",
       "    .dataframe tbody tr th:only-of-type {\n",
       "        vertical-align: middle;\n",
       "    }\n",
       "\n",
       "    .dataframe tbody tr th {\n",
       "        vertical-align: top;\n",
       "    }\n",
       "\n",
       "    .dataframe thead th {\n",
       "        text-align: right;\n",
       "    }\n",
       "</style>\n",
       "<table border=\"1\" class=\"dataframe\">\n",
       "  <thead>\n",
       "    <tr style=\"text-align: right;\">\n",
       "      <th></th>\n",
       "      <th>black</th>\n",
       "      <th>white</th>\n",
       "    </tr>\n",
       "    <tr>\n",
       "      <th>searched</th>\n",
       "      <th></th>\n",
       "      <th></th>\n",
       "    </tr>\n",
       "  </thead>\n",
       "  <tbody>\n",
       "    <tr>\n",
       "      <th>False</th>\n",
       "      <td>36244</td>\n",
       "      <td>239241</td>\n",
       "    </tr>\n",
       "    <tr>\n",
       "      <th>True</th>\n",
       "      <td>1219</td>\n",
       "      <td>3108</td>\n",
       "    </tr>\n",
       "  </tbody>\n",
       "</table>\n",
       "</div>"
      ],
      "text/plain": [
       "          black   white\n",
       "searched               \n",
       "False     36244  239241\n",
       "True       1219    3108"
      ]
     },
     "execution_count": 8,
     "metadata": {},
     "output_type": "execute_result"
    }
   ],
   "source": [
    "# define the data\n",
    "df = pd.DataFrame(data={\"searched\": [False, True], \"black\": [36244, 1219], \"white\": [239241, 3108]})\n",
    "df.set_index(keys=[\"searched\"], inplace=True)\n",
    "df"
   ]
  },
  {
   "cell_type": "code",
   "execution_count": 9,
   "metadata": {},
   "outputs": [
    {
     "data": {
      "text/html": [
       "<div>\n",
       "<style scoped>\n",
       "    .dataframe tbody tr th:only-of-type {\n",
       "        vertical-align: middle;\n",
       "    }\n",
       "\n",
       "    .dataframe tbody tr th {\n",
       "        vertical-align: top;\n",
       "    }\n",
       "\n",
       "    .dataframe thead th {\n",
       "        text-align: right;\n",
       "    }\n",
       "</style>\n",
       "<table border=\"1\" class=\"dataframe\">\n",
       "  <thead>\n",
       "    <tr style=\"text-align: right;\">\n",
       "      <th></th>\n",
       "      <th>black</th>\n",
       "      <th>white</th>\n",
       "      <th>black_relative</th>\n",
       "      <th>white_relative</th>\n",
       "    </tr>\n",
       "    <tr>\n",
       "      <th>searched</th>\n",
       "      <th></th>\n",
       "      <th></th>\n",
       "      <th></th>\n",
       "      <th></th>\n",
       "    </tr>\n",
       "  </thead>\n",
       "  <tbody>\n",
       "    <tr>\n",
       "      <th>False</th>\n",
       "      <td>36244</td>\n",
       "      <td>239241</td>\n",
       "      <td>0.129530</td>\n",
       "      <td>0.855006</td>\n",
       "    </tr>\n",
       "    <tr>\n",
       "      <th>True</th>\n",
       "      <td>1219</td>\n",
       "      <td>3108</td>\n",
       "      <td>0.004356</td>\n",
       "      <td>0.011107</td>\n",
       "    </tr>\n",
       "  </tbody>\n",
       "</table>\n",
       "</div>"
      ],
      "text/plain": [
       "          black   white  black_relative  white_relative\n",
       "searched                                               \n",
       "False     36244  239241        0.129530        0.855006\n",
       "True       1219    3108        0.004356        0.011107"
      ]
     },
     "execution_count": 9,
     "metadata": {},
     "output_type": "execute_result"
    }
   ],
   "source": [
    "total_count = df[\"white\"].values.sum() + df[\"black\"].values.sum()\n",
    "# normalize to get probabilities and to calculate indepedence\n",
    "df[\"black_relative\"] = df[\"black\"] / total_count\n",
    "df[\"white_relative\"] = df[\"white\"] / total_count\n",
    "df"
   ]
  },
  {
   "cell_type": "markdown",
   "metadata": {},
   "source": [
    "The Pearson chi-squared test allows us to test whether observed frequencies are different from expected frequencies, so we need to determine what frequencies we would expect in each cell if searches and race were unrelated – which we can define as being _independent_.=> P(Race intersection Searched) = P(Race) * P(Searched)"
   ]
  },
  {
   "cell_type": "code",
   "execution_count": 16,
   "metadata": {},
   "outputs": [
    {
     "name": "stdout",
     "output_type": "stream",
     "text": [
      "0.015463954369362286 0.9845360456306378 0.13388632367446715 0.8661136763255329\n"
     ]
    }
   ],
   "source": [
    "p_searched = df.loc[True].black_relative + df.loc[True].white_relative\n",
    "p_no_searched = df.loc[False].black_relative + df.loc[False].white_relative\n",
    "p_black = df.black_relative.sum()\n",
    "p_white = df.white_relative.sum()\n",
    "print(p_searched, p_no_searched, p_black, p_white)"
   ]
  },
  {
   "cell_type": "code",
   "execution_count": 23,
   "metadata": {},
   "outputs": [
    {
     "data": {
      "text/html": [
       "<div>\n",
       "<style scoped>\n",
       "    .dataframe tbody tr th:only-of-type {\n",
       "        vertical-align: middle;\n",
       "    }\n",
       "\n",
       "    .dataframe tbody tr th {\n",
       "        vertical-align: top;\n",
       "    }\n",
       "\n",
       "    .dataframe thead th {\n",
       "        text-align: right;\n",
       "    }\n",
       "</style>\n",
       "<table border=\"1\" class=\"dataframe\">\n",
       "  <thead>\n",
       "    <tr style=\"text-align: right;\">\n",
       "      <th></th>\n",
       "      <th>black_relative</th>\n",
       "      <th>white_relative</th>\n",
       "    </tr>\n",
       "    <tr>\n",
       "      <th>searched</th>\n",
       "      <th></th>\n",
       "      <th></th>\n",
       "    </tr>\n",
       "  </thead>\n",
       "  <tbody>\n",
       "    <tr>\n",
       "      <th>False</th>\n",
       "      <td>0.131816</td>\n",
       "      <td>0.852720</td>\n",
       "    </tr>\n",
       "    <tr>\n",
       "      <th>True</th>\n",
       "      <td>0.002070</td>\n",
       "      <td>0.013394</td>\n",
       "    </tr>\n",
       "  </tbody>\n",
       "</table>\n",
       "</div>"
      ],
      "text/plain": [
       "          black_relative  white_relative\n",
       "searched                                \n",
       "False           0.131816        0.852720\n",
       "True            0.002070        0.013394"
      ]
     },
     "execution_count": 23,
     "metadata": {},
     "output_type": "execute_result"
    }
   ],
   "source": [
    "# null hypothesis that race and searched are independent\n",
    "df_null = pd.DataFrame(data={\n",
    "    \"searched\": [False, True],\n",
    "    \"black_relative\": [p_black * p_no_searched, p_black * p_searched],\n",
    "    \"white_relative\": [p_white*p_no_searched, p_white*p_searched]\n",
    "    }\n",
    ")\n",
    "df_null.set_index(keys=[\"searched\"], inplace=True)\n",
    "df_null"
   ]
  },
  {
   "cell_type": "code",
   "execution_count": 32,
   "metadata": {},
   "outputs": [
    {
     "name": "stdout",
     "output_type": "stream",
     "text": [
      "828.2998869866643 1.9001204194034058e-182\n"
     ]
    }
   ],
   "source": [
    "ddof = (2 - 1) * (2 - 1)  # nRows - 1 * nCols - 1\n",
    "observed_vals = np.concatenate([df.black_relative.values, df.white_relative.values]) * total_count\n",
    "expected_vals = np.concatenate([df_null.black_relative, df_null.white_relative.values]) * total_count\n",
    "# denormalize to get real vals\n",
    "chi2 = np.power(observed_vals - expected_vals, 2)\n",
    "chi2 = (chi2 / expected_vals).sum()\n",
    "p_val = stats.chi2.pdf(chi2, df=ddof)\n",
    "print(chi2, p_val)"
   ]
  },
  {
   "cell_type": "code",
   "execution_count": null,
   "metadata": {},
   "outputs": [],
   "source": []
  }
 ],
 "metadata": {
  "kernelspec": {
   "display_name": "Python 3.8.9 64-bit",
   "language": "python",
   "name": "python3"
  },
  "language_info": {
   "codemirror_mode": {
    "name": "ipython",
    "version": 3
   },
   "file_extension": ".py",
   "mimetype": "text/x-python",
   "name": "python",
   "nbconvert_exporter": "python",
   "pygments_lexer": "ipython3",
   "version": "3.8.9"
  },
  "orig_nbformat": 4,
  "vscode": {
   "interpreter": {
    "hash": "31f2aee4e71d21fbe5cf8b01ff0e069b9275f58929596ceb00d14d90e3e16cd6"
   }
  }
 },
 "nbformat": 4,
 "nbformat_minor": 2
}
